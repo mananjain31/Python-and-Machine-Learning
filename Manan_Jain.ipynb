{
  "nbformat": 4,
  "nbformat_minor": 0,
  "metadata": {
    "colab": {
      "name": "Manan_Jain.ipynb",
      "provenance": [],
      "collapsed_sections": []
    },
    "kernelspec": {
      "name": "python3",
      "display_name": "Python 3"
    }
  },
  "cells": [
    {
      "cell_type": "markdown",
      "metadata": {
        "id": "7vaPWp_kAOnm"
      },
      "source": [
        "importing liabraries : pandas and numpy"
      ]
    },
    {
      "cell_type": "code",
      "metadata": {
        "id": "bx4SU3qZz_D8",
        "colab": {
          "base_uri": "https://localhost:8080/"
        },
        "outputId": "9537ec6a-3ab4-4d23-c6cc-7e745896a286"
      },
      "source": [
        "import pandas as pd\r\n",
        "import numpy as np\r\n",
        "#sklearn - framework\r\n",
        "#datasets - package\r\n",
        "#load_iris - function used to load the iris dataset\r\n",
        "from sklearn.datasets import load_iris\r\n",
        "\r\n",
        "#load_iris() returns disctionary\r\n",
        "iris_datasets = load_iris()\r\n",
        "\r\n",
        "#this prints the keys of the datasets\r\n",
        "print(\"Keys of iris_dataset : \\n{}\".format(iris_datasets.keys()))"
      ],
      "execution_count": 1,
      "outputs": [
        {
          "output_type": "stream",
          "text": [
            "Keys of iris_dataset : \n",
            "dict_keys(['data', 'target', 'target_names', 'DESCR', 'feature_names', 'filename'])\n"
          ],
          "name": "stdout"
        }
      ]
    },
    {
      "cell_type": "code",
      "metadata": {
        "id": "-zwfnhP98szi"
      },
      "source": [
        "#this prints the desciption of the dataset. the description is printed upto 200 characters\r\n",
        "print(iris_datasets['DESCR'][:200] + \"\\n...\")"
      ],
      "execution_count": null,
      "outputs": []
    },
    {
      "cell_type": "code",
      "metadata": {
        "id": "qX7gU1lX8xYi"
      },
      "source": [
        "#another way for the same code in last line\r\n",
        "val = iris_datasets['DESCR']\r\n",
        "start_val  = val[:200]\r\n",
        "print(start_val + \"\\n...\")"
      ],
      "execution_count": null,
      "outputs": []
    },
    {
      "cell_type": "code",
      "metadata": {
        "id": "fyqWntxP8zYq",
        "colab": {
          "base_uri": "https://localhost:8080/"
        },
        "outputId": "9bd8358d-cf12-43cd-97b2-eccd13128fb4"
      },
      "source": [
        "#for displaying target_names of the dataset \r\n",
        "print(\"Target names : {}\".format(iris_datasets['target_names']))"
      ],
      "execution_count": null,
      "outputs": [
        {
          "output_type": "stream",
          "text": [
            "Target names : ['setosa' 'versicolor' 'virginica']\n"
          ],
          "name": "stdout"
        }
      ]
    },
    {
      "cell_type": "code",
      "metadata": {
        "id": "sEBpdaV5BP6X",
        "colab": {
          "base_uri": "https://localhost:8080/"
        },
        "outputId": "4b2e2c75-957b-4f99-a9a1-4951ea2bff78"
      },
      "source": [
        "#for displaying feature_names of the dataset \r\n",
        "print(\"Feature names : {}\".format(iris_datasets['feature_names']))"
      ],
      "execution_count": null,
      "outputs": [
        {
          "output_type": "stream",
          "text": [
            "Feature names : ['sepal length (cm)', 'sepal width (cm)', 'petal length (cm)', 'petal width (cm)']\n"
          ],
          "name": "stdout"
        }
      ]
    },
    {
      "cell_type": "code",
      "metadata": {
        "id": "coDPHg9oBBoh",
        "colab": {
          "base_uri": "https://localhost:8080/"
        },
        "outputId": "cee372ef-501b-4c2d-8c20-b5dd1c6f0e9d"
      },
      "source": [
        "#for displaying Type of data\r\n",
        "print(\"Type of data : {}\".format(type(iris_datasets['data'])))"
      ],
      "execution_count": null,
      "outputs": [
        {
          "output_type": "stream",
          "text": [
            "Type of data : <class 'numpy.ndarray'>\n"
          ],
          "name": "stdout"
        }
      ]
    },
    {
      "cell_type": "code",
      "metadata": {
        "id": "5w5BOQ0oCFmE",
        "colab": {
          "base_uri": "https://localhost:8080/"
        },
        "outputId": "ccd0ea1f-0057-4ed6-ce38-675fc00242e2"
      },
      "source": [
        "#prints shape of data (rows, columns) \r\n",
        "print(\"Shape of data : {}\".format(iris_datasets['data'].shape))"
      ],
      "execution_count": null,
      "outputs": [
        {
          "output_type": "stream",
          "text": [
            "Shape of data : (150, 4)\n"
          ],
          "name": "stdout"
        }
      ]
    },
    {
      "cell_type": "code",
      "metadata": {
        "id": "Qb71STvVDc2K"
      },
      "source": [
        "#prints First 5 rows(instances/samples/datapoints) of data\r\n",
        "print(\"First 5 rows of data : \\n{}\".format(iris_datasets['data'][:5]))"
      ],
      "execution_count": null,
      "outputs": []
    },
    {
      "cell_type": "code",
      "metadata": {
        "id": "4J0AiKZgFZtl"
      },
      "source": [
        "#for displaying Type of Target array\r\n",
        "print(\"Type of Target : {}\".format(type(iris_datasets['target'])))"
      ],
      "execution_count": null,
      "outputs": []
    },
    {
      "cell_type": "code",
      "metadata": {
        "id": "2AvXq_pqF7Nb"
      },
      "source": [
        "#for displaying Shape of Target array\r\n",
        "print(\"Shape of Target : {}\".format(iris_datasets['target'].shape))"
      ],
      "execution_count": null,
      "outputs": []
    },
    {
      "cell_type": "code",
      "metadata": {
        "id": "jAWcJVXoGQwK"
      },
      "source": [
        "#for displaying Target array\r\n",
        "print(\"Target : \\n{}\".format(iris_datasets['target']))"
      ],
      "execution_count": null,
      "outputs": []
    },
    {
      "cell_type": "code",
      "metadata": {
        "id": "cxDJGH-UDFua"
      },
      "source": [
        "#train_test_split is function used to split our \r\n",
        "#data into 75 and 25 percent by default\r\n",
        "from sklearn.model_selection import train_test_split\r\n",
        "X_train, X_test, y_train, y_test = train_test_split(\r\n",
        "    iris_datasets['data'], iris_datasets['target'], random_state=0)\r\n"
      ],
      "execution_count": 2,
      "outputs": []
    },
    {
      "cell_type": "code",
      "metadata": {
        "id": "e6Z7qtWYFkox"
      },
      "source": [
        "print(\"X_train shape: {}\".format(X_train.shape))\r\n",
        "print(\"y_train shape: {}\".format(y_train.shape))\r\n",
        "print(\"X_test shape: {}\".format(X_test.shape))\r\n",
        "print(\"y_test shape: {}\".format(y_test.shape))"
      ],
      "execution_count": null,
      "outputs": []
    },
    {
      "cell_type": "markdown",
      "metadata": {
        "id": "wHrMmUZ8OLWy"
      },
      "source": [
        "**this is the KNearest Neighbour Machine Learning Model:**"
      ]
    },
    {
      "cell_type": "code",
      "metadata": {
        "id": "MEzIajogN9xH"
      },
      "source": [
        "from sklearn.neighbors import KNeighborsClassifier\r\n",
        "knn = KNeighborsClassifier(n_neighbors=1)"
      ],
      "execution_count": 15,
      "outputs": []
    },
    {
      "cell_type": "markdown",
      "metadata": {
        "id": "IDBB08wLO3yh"
      },
      "source": [
        "using fit method for training the data"
      ]
    },
    {
      "cell_type": "code",
      "metadata": {
        "id": "ePVh11TLPDwO",
        "colab": {
          "base_uri": "https://localhost:8080/"
        },
        "outputId": "76d8f8dc-4667-47ed-c660-63751b21767b"
      },
      "source": [
        "knn.fit(X_train, y_train)"
      ],
      "execution_count": 10,
      "outputs": [
        {
          "output_type": "execute_result",
          "data": {
            "text/plain": [
              "KNeighborsClassifier(algorithm='auto', leaf_size=30, metric='minkowski',\n",
              "                     metric_params=None, n_jobs=None, n_neighbors=6, p=2,\n",
              "                     weights='uniform')"
            ]
          },
          "metadata": {
            "tags": []
          },
          "execution_count": 10
        }
      ]
    },
    {
      "cell_type": "markdown",
      "metadata": {
        "id": "AFXbofXTQJUr"
      },
      "source": [
        "# testing the model : \r\n",
        "by providing a new datapoint X_new "
      ]
    },
    {
      "cell_type": "code",
      "metadata": {
        "id": "98EQKQ5fPmtY",
        "colab": {
          "base_uri": "https://localhost:8080/"
        },
        "outputId": "522ddac7-9e46-421c-e3ad-b68b2fb605d6"
      },
      "source": [
        "X_new = np.array([[5, 2.9, 1, 0.2]])\r\n",
        "print(\"X_new.shape : {}\".format(X_new.shape))"
      ],
      "execution_count": 11,
      "outputs": [
        {
          "output_type": "stream",
          "text": [
            "X_new.shape : (1, 4)\n"
          ],
          "name": "stdout"
        }
      ]
    },
    {
      "cell_type": "markdown",
      "metadata": {
        "id": "hf_xBnNMVlXV"
      },
      "source": [
        "to make a prediction, we call predict method of the knn object"
      ]
    },
    {
      "cell_type": "code",
      "metadata": {
        "colab": {
          "base_uri": "https://localhost:8080/"
        },
        "id": "UKtcZIa6VcT7",
        "outputId": "5e09e9dd-5491-4031-dc14-c216b3d2e1b0"
      },
      "source": [
        "prediction = knn.predict(X_new)\r\n",
        "print(\"Prediction : {}\".format(prediction))\r\n",
        "print(\"Prediction target name : {}\".format(\r\n",
        "    iris_datasets['target_names'][prediction]\r\n",
        "))\r\n"
      ],
      "execution_count": 12,
      "outputs": [
        {
          "output_type": "stream",
          "text": [
            "Prediction : [0]\n",
            "Prediction target name : ['setosa']\n"
          ],
          "name": "stdout"
        }
      ]
    },
    {
      "cell_type": "markdown",
      "metadata": {
        "id": "2hyY_2HIQ_0C"
      },
      "source": [
        "Evaluating the model by testing on the test dataset"
      ]
    },
    {
      "cell_type": "code",
      "metadata": {
        "id": "8fwZr9NMQUVm"
      },
      "source": [
        "y_pred = knn.predict(X_test)\r\n",
        "print(\"Test set predictions :\\n {}\".format(y_pred))"
      ],
      "execution_count": null,
      "outputs": []
    },
    {
      "cell_type": "code",
      "metadata": {
        "colab": {
          "base_uri": "https://localhost:8080/"
        },
        "id": "8WI2gwH_RfcP",
        "outputId": "32162f6a-4efd-4f33-d622-1e4ad9dbd9a7"
      },
      "source": [
        "print(\"Test set score : {}\".format(np.mean(y_pred == y_test)))"
      ],
      "execution_count": 16,
      "outputs": [
        {
          "output_type": "stream",
          "text": [
            "Test set score : 0.9736842105263158\n"
          ],
          "name": "stdout"
        }
      ]
    }
  ]
}